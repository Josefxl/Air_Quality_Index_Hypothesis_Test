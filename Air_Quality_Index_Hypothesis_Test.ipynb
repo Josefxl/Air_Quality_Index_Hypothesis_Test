{
 "cells": [
  {
   "cell_type": "markdown",
   "id": "e8b8dfd7",
   "metadata": {
    "id": "d25eed62-5910-4d10-a976-c18c4f7d99f7"
   },
   "source": [
    "# Hypothesis Testing"
   ]
  },
  {
   "cell_type": "markdown",
   "id": "3f5949db",
   "metadata": {
    "id": "b50579ec-09df-4bb1-ad5a-d28f4790ca16"
   },
   "source": [
    "In this project we will explore the principles and processes involved in hypothesis testing using the case study given below\n",
    ".\n",
    "<br/>\n",
    "#### Case Study: ####\n",
    "You work for an environmental think tank called Repair Our Air (ROA). ROA is formulating policy recommendations to improve the air quality in America, using the Environmental Protection Agency's Air Quality Index (AQI) to guide their decision making. An AQI value close to 0 signals \"little to no\" public health concern, while higher values are associated with increased risk to public health.\n",
    "\n",
    "They've tasked you with leveraging AQI data to help them prioritize their strategy for improving air quality in America\n",
    "<br/>\n",
    "\n",
    "**The purpose** is to leverage AQI data to help them prioritize their strategy for improving air quality in America\n",
    "\n",
    "**The goal** is to construct a hypothesis test for the company ROA , using our results of that test to make recommendations in the following:\n",
    "\n",
    "1. ROA is considering a metropolitan-focused approach. Within California, they want to know if the mean AQI in Los Angeles County is statistically different from the rest of California.\n",
    "2. With limited resources, ROA has to choose between New York and Ohio for their next regional office. Does New York have a lower AQI than Ohio?\n",
    "3. A new policy will affect those states with a mean AQI of 10 or greater. Will Michigan be affected by this new policy?\n",
    "<br/>\n",
    "\n",
    "\n",
    "*This project has 4 parts:*\n",
    "\n",
    "**Part 1:** Imports and Data loading\n",
    "\n",
    "**Part 2:** Data Exploration and  Cleaning\n",
    "\n",
    "\n",
    "**Part 3:** Statistical Tests\n",
    "\n",
    "**Part 4:** Results and Evaluation\n",
    "\n",
    "<br/>\n",
    "\n",
    "\n"
   ]
  },
  {
   "cell_type": "markdown",
   "id": "c9612db6",
   "metadata": {
    "id": "3b4dc9a5-d724-4696-a704-57fefa9d5938"
   },
   "source": [
    "## Step 1: Imports\n",
    "\n",
    "To proceed with our analysis, import `pandas` and `numpy`. To conduct our hypothesis testing, import `stats` from `scipy`. To carry out visualizations, import `pyplot` and `seaborn`."
   ]
  },
  {
   "cell_type": "markdown",
   "id": "2f933cdf",
   "metadata": {
    "id": "3d28827d-9bb3-45c7-a969-c00f6feda0e2"
   },
   "source": [
    "#### Import Packages"
   ]
  },
  {
   "cell_type": "code",
   "execution_count": 103,
   "id": "ae9a16d1",
   "metadata": {
    "id": "0b3d0e1c-23b9-4491-82a5-ac1e4bd36f30"
   },
   "outputs": [],
   "source": [
    "# Import relevant packages\n",
    "import pandas as pd\n",
    "import numpy as np\n",
    "from scipy import stats\n",
    "import matplotlib.pyplot as plt\n",
    "import seaborn as sns\n"
   ]
  },
  {
   "cell_type": "markdown",
   "id": "c19f422d",
   "metadata": {
    "id": "4b765030-5f02-47d2-aa77-8ac5b2117cc1"
   },
   "source": [
    "#### Load Dataset"
   ]
  },
  {
   "cell_type": "code",
   "execution_count": 81,
   "id": "a48b9219",
   "metadata": {
    "id": "1ce82ed7-cf32-4028-ac77-a377e7638458",
    "tags": []
   },
   "outputs": [],
   "source": [
    "aqi_df = pd.read_csv(r'C:\\Users\\Ghost\\Desktop\\project_files\\epa_air_quality\\c4_epa_air_quality.csv')"
   ]
  },
  {
   "cell_type": "markdown",
   "id": "c6f22221",
   "metadata": {
    "id": "ZDz9XgvMy0MD"
   },
   "source": [
    "## Step 2: Data Exploration and Cleaning"
   ]
  },
  {
   "cell_type": "markdown",
   "id": "92eaa90e",
   "metadata": {
    "id": "c1ee0813-5e74-4564-8ea1-8d724700754a"
   },
   "source": [
    "#### **Data overview and summary statistics**\n",
    "\n",
    "Use the following methods and attributes on the dataframe:\n",
    "\n",
    "* `head()`\n",
    "* `shape`\n",
    "* `describe()`\n",
    "* `info()`\n",
    "\n",
    "It's always helpful to have this information at the beginning of a project, where you can always refer back to if needed."
   ]
  },
  {
   "cell_type": "code",
   "execution_count": 82,
   "id": "ca33d585",
   "metadata": {
    "id": "0444122d-6fba-4051-8b09-b15392aacebf",
    "tags": []
   },
   "outputs": [
    {
     "data": {
      "text/html": [
       "<div>\n",
       "<style scoped>\n",
       "    .dataframe tbody tr th:only-of-type {\n",
       "        vertical-align: middle;\n",
       "    }\n",
       "\n",
       "    .dataframe tbody tr th {\n",
       "        vertical-align: top;\n",
       "    }\n",
       "\n",
       "    .dataframe thead th {\n",
       "        text-align: right;\n",
       "    }\n",
       "</style>\n",
       "<table border=\"1\" class=\"dataframe\">\n",
       "  <thead>\n",
       "    <tr style=\"text-align: right;\">\n",
       "      <th></th>\n",
       "      <th>Unnamed: 0</th>\n",
       "      <th>date_local</th>\n",
       "      <th>state_name</th>\n",
       "      <th>county_name</th>\n",
       "      <th>city_name</th>\n",
       "      <th>local_site_name</th>\n",
       "      <th>parameter_name</th>\n",
       "      <th>units_of_measure</th>\n",
       "      <th>arithmetic_mean</th>\n",
       "      <th>aqi</th>\n",
       "    </tr>\n",
       "  </thead>\n",
       "  <tbody>\n",
       "    <tr>\n",
       "      <th>0</th>\n",
       "      <td>0</td>\n",
       "      <td>2018-01-01</td>\n",
       "      <td>Arizona</td>\n",
       "      <td>Maricopa</td>\n",
       "      <td>Buckeye</td>\n",
       "      <td>BUCKEYE</td>\n",
       "      <td>Carbon monoxide</td>\n",
       "      <td>Parts per million</td>\n",
       "      <td>0.473684</td>\n",
       "      <td>7</td>\n",
       "    </tr>\n",
       "    <tr>\n",
       "      <th>1</th>\n",
       "      <td>1</td>\n",
       "      <td>2018-01-01</td>\n",
       "      <td>Ohio</td>\n",
       "      <td>Belmont</td>\n",
       "      <td>Shadyside</td>\n",
       "      <td>Shadyside</td>\n",
       "      <td>Carbon monoxide</td>\n",
       "      <td>Parts per million</td>\n",
       "      <td>0.263158</td>\n",
       "      <td>5</td>\n",
       "    </tr>\n",
       "    <tr>\n",
       "      <th>2</th>\n",
       "      <td>2</td>\n",
       "      <td>2018-01-01</td>\n",
       "      <td>Wyoming</td>\n",
       "      <td>Teton</td>\n",
       "      <td>Not in a city</td>\n",
       "      <td>Yellowstone National Park - Old Faithful Snow ...</td>\n",
       "      <td>Carbon monoxide</td>\n",
       "      <td>Parts per million</td>\n",
       "      <td>0.111111</td>\n",
       "      <td>2</td>\n",
       "    </tr>\n",
       "    <tr>\n",
       "      <th>3</th>\n",
       "      <td>3</td>\n",
       "      <td>2018-01-01</td>\n",
       "      <td>Pennsylvania</td>\n",
       "      <td>Philadelphia</td>\n",
       "      <td>Philadelphia</td>\n",
       "      <td>North East Waste (NEW)</td>\n",
       "      <td>Carbon monoxide</td>\n",
       "      <td>Parts per million</td>\n",
       "      <td>0.300000</td>\n",
       "      <td>3</td>\n",
       "    </tr>\n",
       "    <tr>\n",
       "      <th>4</th>\n",
       "      <td>4</td>\n",
       "      <td>2018-01-01</td>\n",
       "      <td>Iowa</td>\n",
       "      <td>Polk</td>\n",
       "      <td>Des Moines</td>\n",
       "      <td>CARPENTER</td>\n",
       "      <td>Carbon monoxide</td>\n",
       "      <td>Parts per million</td>\n",
       "      <td>0.215789</td>\n",
       "      <td>3</td>\n",
       "    </tr>\n",
       "  </tbody>\n",
       "</table>\n",
       "</div>"
      ],
      "text/plain": [
       "   Unnamed: 0  date_local    state_name   county_name      city_name  \\\n",
       "0           0  2018-01-01       Arizona      Maricopa        Buckeye   \n",
       "1           1  2018-01-01          Ohio       Belmont      Shadyside   \n",
       "2           2  2018-01-01       Wyoming         Teton  Not in a city   \n",
       "3           3  2018-01-01  Pennsylvania  Philadelphia   Philadelphia   \n",
       "4           4  2018-01-01          Iowa          Polk     Des Moines   \n",
       "\n",
       "                                     local_site_name   parameter_name  \\\n",
       "0                                            BUCKEYE  Carbon monoxide   \n",
       "1                                          Shadyside  Carbon monoxide   \n",
       "2  Yellowstone National Park - Old Faithful Snow ...  Carbon monoxide   \n",
       "3                             North East Waste (NEW)  Carbon monoxide   \n",
       "4                                          CARPENTER  Carbon monoxide   \n",
       "\n",
       "    units_of_measure  arithmetic_mean  aqi  \n",
       "0  Parts per million         0.473684    7  \n",
       "1  Parts per million         0.263158    5  \n",
       "2  Parts per million         0.111111    2  \n",
       "3  Parts per million         0.300000    3  \n",
       "4  Parts per million         0.215789    3  "
      ]
     },
     "execution_count": 82,
     "metadata": {},
     "output_type": "execute_result"
    }
   ],
   "source": [
    "aqi_df.head()"
   ]
  },
  {
   "cell_type": "code",
   "execution_count": 83,
   "id": "697fa582-e5b9-4dc9-9fd3-e821c4ccad8a",
   "metadata": {},
   "outputs": [
    {
     "data": {
      "text/plain": [
       "(260, 10)"
      ]
     },
     "execution_count": 83,
     "metadata": {},
     "output_type": "execute_result"
    }
   ],
   "source": [
    "aqi_df.shape"
   ]
  },
  {
   "cell_type": "markdown",
   "id": "613f4cfb-5f90-4beb-a6fa-933065e1b037",
   "metadata": {},
   "source": [
    "Generate summary statistics using the `describe()` method."
   ]
  },
  {
   "cell_type": "code",
   "execution_count": 87,
   "id": "6cfa15b3-0dab-451d-8ccf-b83ec5aaa0f5",
   "metadata": {},
   "outputs": [
    {
     "data": {
      "text/html": [
       "<div>\n",
       "<style scoped>\n",
       "    .dataframe tbody tr th:only-of-type {\n",
       "        vertical-align: middle;\n",
       "    }\n",
       "\n",
       "    .dataframe tbody tr th {\n",
       "        vertical-align: top;\n",
       "    }\n",
       "\n",
       "    .dataframe thead th {\n",
       "        text-align: right;\n",
       "    }\n",
       "</style>\n",
       "<table border=\"1\" class=\"dataframe\">\n",
       "  <thead>\n",
       "    <tr style=\"text-align: right;\">\n",
       "      <th></th>\n",
       "      <th>Unnamed: 0</th>\n",
       "      <th>arithmetic_mean</th>\n",
       "      <th>aqi</th>\n",
       "    </tr>\n",
       "  </thead>\n",
       "  <tbody>\n",
       "    <tr>\n",
       "      <th>count</th>\n",
       "      <td>260.000000</td>\n",
       "      <td>260.000000</td>\n",
       "      <td>260.000000</td>\n",
       "    </tr>\n",
       "    <tr>\n",
       "      <th>mean</th>\n",
       "      <td>129.500000</td>\n",
       "      <td>0.403169</td>\n",
       "      <td>6.757692</td>\n",
       "    </tr>\n",
       "    <tr>\n",
       "      <th>std</th>\n",
       "      <td>75.199734</td>\n",
       "      <td>0.317902</td>\n",
       "      <td>7.061707</td>\n",
       "    </tr>\n",
       "    <tr>\n",
       "      <th>min</th>\n",
       "      <td>0.000000</td>\n",
       "      <td>0.000000</td>\n",
       "      <td>0.000000</td>\n",
       "    </tr>\n",
       "    <tr>\n",
       "      <th>25%</th>\n",
       "      <td>64.750000</td>\n",
       "      <td>0.200000</td>\n",
       "      <td>2.000000</td>\n",
       "    </tr>\n",
       "    <tr>\n",
       "      <th>50%</th>\n",
       "      <td>129.500000</td>\n",
       "      <td>0.276315</td>\n",
       "      <td>5.000000</td>\n",
       "    </tr>\n",
       "    <tr>\n",
       "      <th>75%</th>\n",
       "      <td>194.250000</td>\n",
       "      <td>0.516009</td>\n",
       "      <td>9.000000</td>\n",
       "    </tr>\n",
       "    <tr>\n",
       "      <th>max</th>\n",
       "      <td>259.000000</td>\n",
       "      <td>1.921053</td>\n",
       "      <td>50.000000</td>\n",
       "    </tr>\n",
       "  </tbody>\n",
       "</table>\n",
       "</div>"
      ],
      "text/plain": [
       "       Unnamed: 0  arithmetic_mean         aqi\n",
       "count  260.000000       260.000000  260.000000\n",
       "mean   129.500000         0.403169    6.757692\n",
       "std     75.199734         0.317902    7.061707\n",
       "min      0.000000         0.000000    0.000000\n",
       "25%     64.750000         0.200000    2.000000\n",
       "50%    129.500000         0.276315    5.000000\n",
       "75%    194.250000         0.516009    9.000000\n",
       "max    259.000000         1.921053   50.000000"
      ]
     },
     "execution_count": 87,
     "metadata": {},
     "output_type": "execute_result"
    }
   ],
   "source": [
    "aqi_df.describe()"
   ]
  },
  {
   "cell_type": "markdown",
   "id": "848b8919",
   "metadata": {
    "id": "yxdjmP4WJ4wH"
   },
   "source": [
    "And summary information using the `info()` method."
   ]
  },
  {
   "cell_type": "code",
   "execution_count": 88,
   "id": "92792f7f-cf69-4f13-9128-e66a8e964f41",
   "metadata": {
    "id": "TCEJUvQ7-519"
   },
   "outputs": [
    {
     "name": "stdout",
     "output_type": "stream",
     "text": [
      "<class 'pandas.core.frame.DataFrame'>\n",
      "RangeIndex: 260 entries, 0 to 259\n",
      "Data columns (total 10 columns):\n",
      " #   Column            Non-Null Count  Dtype  \n",
      "---  ------            --------------  -----  \n",
      " 0   Unnamed: 0        260 non-null    int64  \n",
      " 1   date_local        260 non-null    object \n",
      " 2   state_name        260 non-null    object \n",
      " 3   county_name       260 non-null    object \n",
      " 4   city_name         260 non-null    object \n",
      " 5   local_site_name   257 non-null    object \n",
      " 6   parameter_name    260 non-null    object \n",
      " 7   units_of_measure  260 non-null    object \n",
      " 8   arithmetic_mean   260 non-null    float64\n",
      " 9   aqi               260 non-null    int64  \n",
      "dtypes: float64(1), int64(2), object(7)\n",
      "memory usage: 20.4+ KB\n"
     ]
    }
   ],
   "source": [
    "aqi_df.info()"
   ]
  },
  {
   "cell_type": "markdown",
   "id": "aba780ca-1d1f-4d97-baba-c6884405279b",
   "metadata": {},
   "source": [
    " Remove irrelevant columns, check for missing data, duplicates and outliers and handle them accordingly\n"
   ]
  },
  {
   "cell_type": "markdown",
   "id": "b1aa5690-c623-459f-88ed-7c8de9de0c27",
   "metadata": {},
   "source": [
    "The `Unnamed: 0` column is not relevant to our analysis so remove it using the `drop()` method"
   ]
  },
  {
   "cell_type": "code",
   "execution_count": 89,
   "id": "4598c7f3-c1d6-4f7e-b365-bc14963cffcb",
   "metadata": {},
   "outputs": [
    {
     "data": {
      "text/html": [
       "<div>\n",
       "<style scoped>\n",
       "    .dataframe tbody tr th:only-of-type {\n",
       "        vertical-align: middle;\n",
       "    }\n",
       "\n",
       "    .dataframe tbody tr th {\n",
       "        vertical-align: top;\n",
       "    }\n",
       "\n",
       "    .dataframe thead th {\n",
       "        text-align: right;\n",
       "    }\n",
       "</style>\n",
       "<table border=\"1\" class=\"dataframe\">\n",
       "  <thead>\n",
       "    <tr style=\"text-align: right;\">\n",
       "      <th></th>\n",
       "      <th>date_local</th>\n",
       "      <th>state_name</th>\n",
       "      <th>county_name</th>\n",
       "      <th>city_name</th>\n",
       "      <th>local_site_name</th>\n",
       "      <th>parameter_name</th>\n",
       "      <th>units_of_measure</th>\n",
       "      <th>arithmetic_mean</th>\n",
       "      <th>aqi</th>\n",
       "    </tr>\n",
       "  </thead>\n",
       "  <tbody>\n",
       "    <tr>\n",
       "      <th>0</th>\n",
       "      <td>2018-01-01</td>\n",
       "      <td>Arizona</td>\n",
       "      <td>Maricopa</td>\n",
       "      <td>Buckeye</td>\n",
       "      <td>BUCKEYE</td>\n",
       "      <td>Carbon monoxide</td>\n",
       "      <td>Parts per million</td>\n",
       "      <td>0.473684</td>\n",
       "      <td>7</td>\n",
       "    </tr>\n",
       "    <tr>\n",
       "      <th>1</th>\n",
       "      <td>2018-01-01</td>\n",
       "      <td>Ohio</td>\n",
       "      <td>Belmont</td>\n",
       "      <td>Shadyside</td>\n",
       "      <td>Shadyside</td>\n",
       "      <td>Carbon monoxide</td>\n",
       "      <td>Parts per million</td>\n",
       "      <td>0.263158</td>\n",
       "      <td>5</td>\n",
       "    </tr>\n",
       "    <tr>\n",
       "      <th>2</th>\n",
       "      <td>2018-01-01</td>\n",
       "      <td>Wyoming</td>\n",
       "      <td>Teton</td>\n",
       "      <td>Not in a city</td>\n",
       "      <td>Yellowstone National Park - Old Faithful Snow ...</td>\n",
       "      <td>Carbon monoxide</td>\n",
       "      <td>Parts per million</td>\n",
       "      <td>0.111111</td>\n",
       "      <td>2</td>\n",
       "    </tr>\n",
       "    <tr>\n",
       "      <th>3</th>\n",
       "      <td>2018-01-01</td>\n",
       "      <td>Pennsylvania</td>\n",
       "      <td>Philadelphia</td>\n",
       "      <td>Philadelphia</td>\n",
       "      <td>North East Waste (NEW)</td>\n",
       "      <td>Carbon monoxide</td>\n",
       "      <td>Parts per million</td>\n",
       "      <td>0.300000</td>\n",
       "      <td>3</td>\n",
       "    </tr>\n",
       "    <tr>\n",
       "      <th>4</th>\n",
       "      <td>2018-01-01</td>\n",
       "      <td>Iowa</td>\n",
       "      <td>Polk</td>\n",
       "      <td>Des Moines</td>\n",
       "      <td>CARPENTER</td>\n",
       "      <td>Carbon monoxide</td>\n",
       "      <td>Parts per million</td>\n",
       "      <td>0.215789</td>\n",
       "      <td>3</td>\n",
       "    </tr>\n",
       "  </tbody>\n",
       "</table>\n",
       "</div>"
      ],
      "text/plain": [
       "   date_local    state_name   county_name      city_name  \\\n",
       "0  2018-01-01       Arizona      Maricopa        Buckeye   \n",
       "1  2018-01-01          Ohio       Belmont      Shadyside   \n",
       "2  2018-01-01       Wyoming         Teton  Not in a city   \n",
       "3  2018-01-01  Pennsylvania  Philadelphia   Philadelphia   \n",
       "4  2018-01-01          Iowa          Polk     Des Moines   \n",
       "\n",
       "                                     local_site_name   parameter_name  \\\n",
       "0                                            BUCKEYE  Carbon monoxide   \n",
       "1                                          Shadyside  Carbon monoxide   \n",
       "2  Yellowstone National Park - Old Faithful Snow ...  Carbon monoxide   \n",
       "3                             North East Waste (NEW)  Carbon monoxide   \n",
       "4                                          CARPENTER  Carbon monoxide   \n",
       "\n",
       "    units_of_measure  arithmetic_mean  aqi  \n",
       "0  Parts per million         0.473684    7  \n",
       "1  Parts per million         0.263158    5  \n",
       "2  Parts per million         0.111111    2  \n",
       "3  Parts per million         0.300000    3  \n",
       "4  Parts per million         0.215789    3  "
      ]
     },
     "execution_count": 89,
     "metadata": {},
     "output_type": "execute_result"
    }
   ],
   "source": [
    "# drop Unnamed: 0 column\n",
    "aqi_df = aqi_df.drop('Unnamed: 0', axis = 1)\n",
    "aqi_df.head()"
   ]
  },
  {
   "cell_type": "markdown",
   "id": "f9c8e8d0-75ec-409a-8634-7974e77581c2",
   "metadata": {},
   "source": [
    "Check for number of duplicates using the `duplicated()` method"
   ]
  },
  {
   "cell_type": "code",
   "execution_count": 90,
   "id": "da7504da-5997-472d-82bc-f5a54bc10dfa",
   "metadata": {},
   "outputs": [
    {
     "data": {
      "text/plain": [
       "0"
      ]
     },
     "execution_count": 90,
     "metadata": {},
     "output_type": "execute_result"
    }
   ],
   "source": [
    "# check for duplicates\n",
    "aqi_df.duplicated().sum()"
   ]
  },
  {
   "cell_type": "markdown",
   "id": "a5d687de-6a56-4ad2-bb78-e45337b34dda",
   "metadata": {},
   "source": [
    "Check for missing values using the `isna()` method"
   ]
  },
  {
   "cell_type": "code",
   "execution_count": 91,
   "id": "0781e392-ccf8-4f1a-bae3-2d1a38e4e8d1",
   "metadata": {},
   "outputs": [
    {
     "data": {
      "text/plain": [
       "date_local          0\n",
       "state_name          0\n",
       "county_name         0\n",
       "city_name           0\n",
       "local_site_name     3\n",
       "parameter_name      0\n",
       "units_of_measure    0\n",
       "arithmetic_mean     0\n",
       "aqi                 0\n",
       "dtype: int64"
      ]
     },
     "execution_count": 91,
     "metadata": {},
     "output_type": "execute_result"
    }
   ],
   "source": [
    "aqi_df.isna().sum()"
   ]
  },
  {
   "cell_type": "markdown",
   "id": "4b6d8663-4039-4579-8ce6-a730577f4968",
   "metadata": {},
   "source": [
    "Only local_site_name column has missing values, totalling 3 rows.\n",
    "local_site_name is not relevant to this project, but we will remove missing rows regardless, since they are few\n",
    "\n",
    "Drop the missing rows using the `dropna()` method"
   ]
  },
  {
   "cell_type": "code",
   "execution_count": 93,
   "id": "a149868f-a864-4b87-a963-3a85fc263daa",
   "metadata": {},
   "outputs": [
    {
     "data": {
      "text/plain": [
       "date_local          0\n",
       "state_name          0\n",
       "county_name         0\n",
       "city_name           0\n",
       "local_site_name     0\n",
       "parameter_name      0\n",
       "units_of_measure    0\n",
       "arithmetic_mean     0\n",
       "aqi                 0\n",
       "dtype: int64"
      ]
     },
     "execution_count": 93,
     "metadata": {},
     "output_type": "execute_result"
    }
   ],
   "source": [
    "# drop missing values\n",
    "aqi_df = aqi_df.dropna(axis = 0)\n",
    "\n",
    "#confirm it worked\n",
    "aqi_df.isna().sum()"
   ]
  },
  {
   "cell_type": "markdown",
   "id": "3d527a12-ac24-420c-b6d1-50804a70b011",
   "metadata": {},
   "source": [
    "Check for outliers using box plots\n",
    "\n",
    "Only our `aqi` column is relevant to our hypothesis test so we will only be creating a single plot"
   ]
  },
  {
   "cell_type": "code",
   "execution_count": 94,
   "id": "d4edcb64-208f-4e11-a646-f247953d86a4",
   "metadata": {},
   "outputs": [
    {
     "data": {
      "image/png": "[encoded data removed]",
      "text/plain": [
       "<Figure size 500x200 with 1 Axes>"
      ]
     },
     "metadata": {},
     "output_type": "display_data"
    }
   ],
   "source": [
    "# plot boxplot\n",
    "\n",
    "plt.figure(figsize = (5,2))\n",
    "sns.boxplot(x = aqi_df['aqi'], fliersize = 1)\n",
    "plt.title('AQI Box Plot')\n",
    "plt.xlabel('aqi')\n",
    "plt.show()"
   ]
  },
  {
   "cell_type": "markdown",
   "id": "2ff1de66-089c-41cf-8bcc-b9212c6c52d9",
   "metadata": {},
   "source": [
    "The box plot indicates a number of outliers in our variable\n",
    "\n",
    "we'll use the `IQR` to isolate the aqi in our data and further probe the data"
   ]
  },
  {
   "cell_type": "code",
   "execution_count": 95,
   "id": "d31d9546-9c61-45bf-9d20-56074d4d62ce",
   "metadata": {},
   "outputs": [
    {
     "name": "stdout",
     "output_type": "stream",
     "text": [
      "Total number of outliers: 14\n",
      "\n"
     ]
    },
    {
     "data": {
      "text/html": [
       "<div>\n",
       "<style scoped>\n",
       "    .dataframe tbody tr th:only-of-type {\n",
       "        vertical-align: middle;\n",
       "    }\n",
       "\n",
       "    .dataframe tbody tr th {\n",
       "        vertical-align: top;\n",
       "    }\n",
       "\n",
       "    .dataframe thead th {\n",
       "        text-align: right;\n",
       "    }\n",
       "</style>\n",
       "<table border=\"1\" class=\"dataframe\">\n",
       "  <thead>\n",
       "    <tr style=\"text-align: right;\">\n",
       "      <th></th>\n",
       "      <th>date_local</th>\n",
       "      <th>state_name</th>\n",
       "      <th>county_name</th>\n",
       "      <th>city_name</th>\n",
       "      <th>local_site_name</th>\n",
       "      <th>parameter_name</th>\n",
       "      <th>units_of_measure</th>\n",
       "      <th>arithmetic_mean</th>\n",
       "      <th>aqi</th>\n",
       "    </tr>\n",
       "  </thead>\n",
       "  <tbody>\n",
       "    <tr>\n",
       "      <th>25</th>\n",
       "      <td>2018-01-01</td>\n",
       "      <td>Nevada</td>\n",
       "      <td>Clark</td>\n",
       "      <td>Las Vegas</td>\n",
       "      <td>Sunrise Acres</td>\n",
       "      <td>Carbon monoxide</td>\n",
       "      <td>Parts per million</td>\n",
       "      <td>1.805263</td>\n",
       "      <td>41</td>\n",
       "    </tr>\n",
       "    <tr>\n",
       "      <th>46</th>\n",
       "      <td>2018-01-01</td>\n",
       "      <td>California</td>\n",
       "      <td>Riverside</td>\n",
       "      <td>Mira Loma</td>\n",
       "      <td>Mira Loma (Van Buren)</td>\n",
       "      <td>Carbon monoxide</td>\n",
       "      <td>Parts per million</td>\n",
       "      <td>1.231579</td>\n",
       "      <td>27</td>\n",
       "    </tr>\n",
       "    <tr>\n",
       "      <th>69</th>\n",
       "      <td>2018-01-01</td>\n",
       "      <td>Arizona</td>\n",
       "      <td>Maricopa</td>\n",
       "      <td>Phoenix</td>\n",
       "      <td>JLG SUPERSITE</td>\n",
       "      <td>Carbon monoxide</td>\n",
       "      <td>Parts per million</td>\n",
       "      <td>0.978947</td>\n",
       "      <td>20</td>\n",
       "    </tr>\n",
       "    <tr>\n",
       "      <th>75</th>\n",
       "      <td>2018-01-01</td>\n",
       "      <td>California</td>\n",
       "      <td>San Joaquin</td>\n",
       "      <td>Stockton</td>\n",
       "      <td>Stockton-Hazelton</td>\n",
       "      <td>Carbon monoxide</td>\n",
       "      <td>Parts per million</td>\n",
       "      <td>1.084211</td>\n",
       "      <td>20</td>\n",
       "    </tr>\n",
       "    <tr>\n",
       "      <th>106</th>\n",
       "      <td>2018-01-01</td>\n",
       "      <td>California</td>\n",
       "      <td>Imperial</td>\n",
       "      <td>Calexico</td>\n",
       "      <td>Calexico-Ethel Street</td>\n",
       "      <td>Carbon monoxide</td>\n",
       "      <td>Parts per million</td>\n",
       "      <td>1.183333</td>\n",
       "      <td>26</td>\n",
       "    </tr>\n",
       "    <tr>\n",
       "      <th>131</th>\n",
       "      <td>2018-01-01</td>\n",
       "      <td>Arizona</td>\n",
       "      <td>Maricopa</td>\n",
       "      <td>Phoenix</td>\n",
       "      <td>CENTRAL PHOENIX</td>\n",
       "      <td>Carbon monoxide</td>\n",
       "      <td>Parts per million</td>\n",
       "      <td>1.110526</td>\n",
       "      <td>27</td>\n",
       "    </tr>\n",
       "    <tr>\n",
       "      <th>132</th>\n",
       "      <td>2018-01-01</td>\n",
       "      <td>California</td>\n",
       "      <td>Los Angeles</td>\n",
       "      <td>Compton</td>\n",
       "      <td>Compton</td>\n",
       "      <td>Carbon monoxide</td>\n",
       "      <td>Parts per million</td>\n",
       "      <td>1.742105</td>\n",
       "      <td>40</td>\n",
       "    </tr>\n",
       "    <tr>\n",
       "      <th>155</th>\n",
       "      <td>2018-01-01</td>\n",
       "      <td>Arizona</td>\n",
       "      <td>Maricopa</td>\n",
       "      <td>Phoenix</td>\n",
       "      <td>SOUTH PHOENIX</td>\n",
       "      <td>Carbon monoxide</td>\n",
       "      <td>Parts per million</td>\n",
       "      <td>1.394737</td>\n",
       "      <td>36</td>\n",
       "    </tr>\n",
       "    <tr>\n",
       "      <th>177</th>\n",
       "      <td>2018-01-01</td>\n",
       "      <td>California</td>\n",
       "      <td>Los Angeles</td>\n",
       "      <td>Long Beach</td>\n",
       "      <td>Long Beach (Hudson)</td>\n",
       "      <td>Carbon monoxide</td>\n",
       "      <td>Parts per million</td>\n",
       "      <td>1.200000</td>\n",
       "      <td>24</td>\n",
       "    </tr>\n",
       "    <tr>\n",
       "      <th>189</th>\n",
       "      <td>2018-01-01</td>\n",
       "      <td>California</td>\n",
       "      <td>Los Angeles</td>\n",
       "      <td>Pomona</td>\n",
       "      <td>Pomona</td>\n",
       "      <td>Carbon monoxide</td>\n",
       "      <td>Parts per million</td>\n",
       "      <td>1.000000</td>\n",
       "      <td>20</td>\n",
       "    </tr>\n",
       "    <tr>\n",
       "      <th>199</th>\n",
       "      <td>2018-01-01</td>\n",
       "      <td>California</td>\n",
       "      <td>Riverside</td>\n",
       "      <td>Rubidoux</td>\n",
       "      <td>Rubidoux</td>\n",
       "      <td>Carbon monoxide</td>\n",
       "      <td>Parts per million</td>\n",
       "      <td>1.021053</td>\n",
       "      <td>23</td>\n",
       "    </tr>\n",
       "    <tr>\n",
       "      <th>200</th>\n",
       "      <td>2018-01-01</td>\n",
       "      <td>California</td>\n",
       "      <td>Riverside</td>\n",
       "      <td>Rubidoux</td>\n",
       "      <td>Rubidoux</td>\n",
       "      <td>Carbon monoxide</td>\n",
       "      <td>Parts per million</td>\n",
       "      <td>0.984211</td>\n",
       "      <td>22</td>\n",
       "    </tr>\n",
       "    <tr>\n",
       "      <th>206</th>\n",
       "      <td>2018-01-01</td>\n",
       "      <td>California</td>\n",
       "      <td>San Bernardino</td>\n",
       "      <td>San Bernardino</td>\n",
       "      <td>San Bernardino</td>\n",
       "      <td>Carbon monoxide</td>\n",
       "      <td>Parts per million</td>\n",
       "      <td>1.100000</td>\n",
       "      <td>28</td>\n",
       "    </tr>\n",
       "    <tr>\n",
       "      <th>244</th>\n",
       "      <td>2018-01-01</td>\n",
       "      <td>Arizona</td>\n",
       "      <td>Maricopa</td>\n",
       "      <td>Phoenix</td>\n",
       "      <td>WEST PHOENIX</td>\n",
       "      <td>Carbon monoxide</td>\n",
       "      <td>Parts per million</td>\n",
       "      <td>1.921053</td>\n",
       "      <td>50</td>\n",
       "    </tr>\n",
       "  </tbody>\n",
       "</table>\n",
       "</div>"
      ],
      "text/plain": [
       "     date_local  state_name     county_name       city_name  \\\n",
       "25   2018-01-01      Nevada           Clark       Las Vegas   \n",
       "46   2018-01-01  California       Riverside       Mira Loma   \n",
       "69   2018-01-01     Arizona        Maricopa         Phoenix   \n",
       "75   2018-01-01  California     San Joaquin        Stockton   \n",
       "106  2018-01-01  California        Imperial        Calexico   \n",
       "131  2018-01-01     Arizona        Maricopa         Phoenix   \n",
       "132  2018-01-01  California     Los Angeles         Compton   \n",
       "155  2018-01-01     Arizona        Maricopa         Phoenix   \n",
       "177  2018-01-01  California     Los Angeles      Long Beach   \n",
       "189  2018-01-01  California     Los Angeles          Pomona   \n",
       "199  2018-01-01  California       Riverside        Rubidoux   \n",
       "200  2018-01-01  California       Riverside        Rubidoux   \n",
       "206  2018-01-01  California  San Bernardino  San Bernardino   \n",
       "244  2018-01-01     Arizona        Maricopa         Phoenix   \n",
       "\n",
       "           local_site_name   parameter_name   units_of_measure  \\\n",
       "25           Sunrise Acres  Carbon monoxide  Parts per million   \n",
       "46   Mira Loma (Van Buren)  Carbon monoxide  Parts per million   \n",
       "69           JLG SUPERSITE  Carbon monoxide  Parts per million   \n",
       "75       Stockton-Hazelton  Carbon monoxide  Parts per million   \n",
       "106  Calexico-Ethel Street  Carbon monoxide  Parts per million   \n",
       "131        CENTRAL PHOENIX  Carbon monoxide  Parts per million   \n",
       "132                Compton  Carbon monoxide  Parts per million   \n",
       "155          SOUTH PHOENIX  Carbon monoxide  Parts per million   \n",
       "177    Long Beach (Hudson)  Carbon monoxide  Parts per million   \n",
       "189                 Pomona  Carbon monoxide  Parts per million   \n",
       "199               Rubidoux  Carbon monoxide  Parts per million   \n",
       "200               Rubidoux  Carbon monoxide  Parts per million   \n",
       "206         San Bernardino  Carbon monoxide  Parts per million   \n",
       "244           WEST PHOENIX  Carbon monoxide  Parts per million   \n",
       "\n",
       "     arithmetic_mean  aqi  \n",
       "25          1.805263   41  \n",
       "46          1.231579   27  \n",
       "69          0.978947   20  \n",
       "75          1.084211   20  \n",
       "106         1.183333   26  \n",
       "131         1.110526   27  \n",
       "132         1.742105   40  \n",
       "155         1.394737   36  \n",
       "177         1.200000   24  \n",
       "189         1.000000   20  \n",
       "199         1.021053   23  \n",
       "200         0.984211   22  \n",
       "206         1.100000   28  \n",
       "244         1.921053   50  "
      ]
     },
     "execution_count": 95,
     "metadata": {},
     "output_type": "execute_result"
    }
   ],
   "source": [
    "# first calculate IQR \n",
    "Q1 = aqi_df['aqi'].quantile(0.25)\n",
    "Q3 = aqi_df['aqi'].quantile(0.75)\n",
    "IQR = Q3 - Q1\n",
    "\n",
    "# use IQR to calculate the upper and lower limits\n",
    "upper_limit = Q3 + 1.5 * IQR\n",
    "lower_limit = Q1 - 1.5 * IQR \n",
    "\n",
    "# display all ouliers in our dataset using our limits\n",
    "mask = (aqi_df['aqi'] < lower_limit) | (aqi_df['aqi'] > upper_limit)\n",
    "\n",
    "outliers = len(aqi_df[mask])\n",
    "print(f\"Total number of outliers: {outliers}\")\n",
    "print()\n",
    "aqi_df[mask]"
   ]
  },
  {
   "cell_type": "markdown",
   "id": "16d3a957-9b6b-4cf9-822e-f2bf3dbbec5d",
   "metadata": {},
   "source": [
    "Our aqi variable has a total of 14 outliers. This is not abnormal considering a good Air Quality Index(aqi) can range from a value of 0 to 50. However, any aqi value above 100 is considered unhealthy to sensitive groups. \n",
    "\n",
    "Now that we have confirmed our outliers are not abnormal for the data we are working with, we do not need to remove them or reassign their values, we can proceed with our hypothesis test.\n"
   ]
  },
  {
   "cell_type": "markdown",
   "id": "3153b3c3",
   "metadata": {
    "id": "fd48d0f0-3f90-455e-87a1-0da43fcac202"
   },
   "source": [
    "## Step 3. Statistical Tests\n",
    "\n",
    "Before we proceed, recall the following steps for conducting hypothesis testing:\n",
    "\n",
    "1. Formulate the null hypothesis and the alternative hypothesis.<br>\n",
    "2. Set the significance level.<br>\n",
    "3. Determine the appropriate test procedure.<br>\n",
    "4. Compute the p-value.<br>\n",
    "5. Draw your conclusion."
   ]
  },
  {
   "cell_type": "markdown",
   "id": "993ddc74",
   "metadata": {
    "id": "d572fbab-b82e-4898-96d5-93a8f20c3094"
   },
   "source": [
    "### Hypothesis 1: ROA is considering a metropolitan-focused approach. Within California, they want to know if the mean AQI in Los Angeles County is statistically different from the rest of California.\n",
    "\n",
    "Before proceeding with our analysis, it will be helpful to subset the data for our comparison."
   ]
  },
  {
   "cell_type": "code",
   "execution_count": 105,
   "id": "3e3d8a9a",
   "metadata": {
    "id": "c8e42529-af00-4699-96b4-bd0f8989014a"
   },
   "outputs": [
    {
     "name": "stdout",
     "output_type": "stream",
     "text": [
      "11.0\n",
      "16.285714285714285\n"
     ]
    }
   ],
   "source": [
    "# Create dataframes for each sample being compared in your test\n",
    "\n",
    "# California excluding Los Angeles Subset\n",
    "cali_state = aqi_df[(aqi_df['state_name']=='California') & (aqi_df['county_name']!='Los Angeles')]\n",
    "\n",
    "# Los Angeles Subset\n",
    "LA_county = aqi_df[aqi_df['county_name'] == 'Los Angeles']\n",
    "\n",
    "print(cali_state['aqi'].mean())\n",
    "print(LA_county['aqi'].mean())"
   ]
  },
  {
   "cell_type": "markdown",
   "id": "7f107c10",
   "metadata": {
    "id": "7dff76cf-3a49-49d2-9660-0b5ec17d5f0a"
   },
   "source": [
    "#### Formulate hypothesis:"
   ]
  },
  {
   "cell_type": "markdown",
   "id": "215438e7",
   "metadata": {
    "id": "fdddef66-6207-4cc0-853c-0b578674bbfc"
   },
   "source": [
    "**Formulate null and alternative hypotheses:**\n",
    "\n",
    "*   $H_0$: There is no difference in the mean AQI between Los Angeles County and the rest of California.\n",
    "*   $H_A$: There is a difference in the mean AQI between Los Angeles County and the rest of California.\n"
   ]
  },
  {
   "cell_type": "markdown",
   "id": "bba1ab8a",
   "metadata": {
    "id": "5dac3136-16bf-45d2-a560-05fe5361f5cb"
   },
   "source": [
    "#### Set the significance level:"
   ]
  },
  {
   "cell_type": "code",
   "execution_count": 107,
   "id": "670b6f9a",
   "metadata": {
    "id": "5ef36549-7ccb-4547-bf04-d23b166c65d4"
   },
   "outputs": [
    {
     "name": "stdout",
     "output_type": "stream",
     "text": [
      "Significance Level: 0.05\n"
     ]
    }
   ],
   "source": [
    "# For this analysis, the significance level is 5%\n",
    "SL = 5 / 100\n",
    "print(f'Significance Level: {SL}')"
   ]
  },
  {
   "cell_type": "markdown",
   "id": "6dc500df",
   "metadata": {
    "id": "4ebb679d-188d-4ca8-a886-6edb9ba1301e"
   },
   "source": [
    "#### Determine the appropriate test procedure:"
   ]
  },
  {
   "cell_type": "markdown",
   "id": "640e5af9",
   "metadata": {
    "id": "ab717428-91e5-4f88-b6d5-0a8c3034e010"
   },
   "source": [
    "Here, we are comparing the sample means between two independent samples. Therefore, we will utilize a **two-sample  𝑡-test**."
   ]
  },
  {
   "cell_type": "markdown",
   "id": "1c2ee91f",
   "metadata": {
    "id": "e862eb4d-a170-4126-9373-a527bf5659da"
   },
   "source": [
    "#### Compute the P-value"
   ]
  },
  {
   "cell_type": "code",
   "execution_count": 99,
   "id": "1011183f",
   "metadata": {
    "id": "83ef0d80-48ec-4a5a-8acd-0fab137243c3",
    "tags": []
   },
   "outputs": [
    {
     "data": {
      "text/plain": [
       "TtestResult(statistic=2.1107010796372014, pvalue=0.049839056842410995, df=17.08246830361151)"
      ]
     },
     "execution_count": 99,
     "metadata": {},
     "output_type": "execute_result"
    }
   ],
   "source": [
    "# Compute p-value \n",
    "stats.ttest_ind(a = LA_county['aqi'], b = cali_state['aqi'], equal_var = False)"
   ]
  },
  {
   "cell_type": "markdown",
   "id": "e72c8eda",
   "metadata": {
    "id": "2d62e8b0-59e5-471d-a5fc-d50395955a2a"
   },
   "source": [
    "#### **Question 1. What is your P-value for hypothesis 1, and what does this indicate for your null hypothesis?**"
   ]
  },
  {
   "cell_type": "markdown",
   "id": "593bab95",
   "metadata": {
    "id": "KUEKceuOJ1S2"
   },
   "source": [
    "- From our test we obtained a p value of 0.049 which is less than our significance level of 0.05\n",
    "- Since our p value is less than our significance level, we reject the null hypothesis, and therefore conclude that there is a statistically significant difference in the mean AQI between Los Angeles County and the rest of California"
   ]
  },
  {
   "cell_type": "markdown",
   "id": "54717d3f",
   "metadata": {
    "id": "94a88155-3328-4c7e-8e60-67a2ba9d7967"
   },
   "source": [
    "### Hypothesis 2: With limited resources, ROA has to choose between New York and Ohio for their next regional office. Does New York have a lower AQI than Ohio?\n",
    "\n",
    "Before proceeding with our analysis, it will be helpful to subset the data for our comparison."
   ]
  },
  {
   "cell_type": "code",
   "execution_count": 100,
   "id": "78a81de3",
   "metadata": {
    "id": "f39b7d83-9fbf-4bba-90c2-c99f903badd8"
   },
   "outputs": [
    {
     "name": "stdout",
     "output_type": "stream",
     "text": [
      "3.3333333333333335\n",
      "2.5\n"
     ]
    }
   ],
   "source": [
    "# Create dataframes for each sample being compared in our test\n",
    "\n",
    "New_York = aqi_df[aqi_df['state_name'] == 'New York']\n",
    "Ohio = aqi_df[aqi_df['state_name'] == 'Ohio']\n",
    "\n",
    "print(Ohio['aqi'].mean())\n",
    "print(New_York['aqi'].mean())\n"
   ]
  },
  {
   "cell_type": "markdown",
   "id": "00b00d50",
   "metadata": {
    "id": "7478185b-a351-4c7c-b1b8-6eaa1a26d2ed"
   },
   "source": [
    "#### Formulate hypothesis:"
   ]
  },
  {
   "cell_type": "markdown",
   "id": "7a87200a",
   "metadata": {
    "id": "029b0f9c-0d0c-475f-b745-643a313e2b79"
   },
   "source": [
    "**Formulate null and alternative hypotheses:**\n",
    "\n",
    "*   $H_0$: The mean AQI of New York is greater than or equal to that of Ohio.\n",
    "*   $H_A$: The mean AQI of New York is **below** that of Ohio.\n"
   ]
  },
  {
   "cell_type": "markdown",
   "id": "de9ea63a",
   "metadata": {
    "id": "b12559f5-bd57-4664-be80-7208ca8818b4"
   },
   "source": [
    "#### Significance Level (remains at 5%)"
   ]
  },
  {
   "cell_type": "markdown",
   "id": "d480ff15",
   "metadata": {
    "id": "2b57fcf8-6f9d-4dae-ba0d-4af9a24d991d"
   },
   "source": [
    "#### Determine the appropriate test procedure:"
   ]
  },
  {
   "cell_type": "markdown",
   "id": "87e2a9d4",
   "metadata": {
    "id": "8ac7075f-1342-4522-9c49-1f43574d05f8"
   },
   "source": [
    "Here, we are comparing the sample means between two independent samples in one direction. Therefore, we will utilize a **two-sample  𝑡-test**."
   ]
  },
  {
   "cell_type": "markdown",
   "id": "7b7e5cae",
   "metadata": {
    "id": "77f03fc8-0663-48b2-af4b-2936b35027e7"
   },
   "source": [
    "#### Compute the P-value"
   ]
  },
  {
   "cell_type": "code",
   "execution_count": 101,
   "id": "52451cb5",
   "metadata": {
    "id": "e495500f-c3d9-4cf2-ad1d-4687640a01b4",
    "tags": []
   },
   "outputs": [
    {
     "data": {
      "text/plain": [
       "TtestResult(statistic=-2.025951038880333, pvalue=0.030446502691934683, df=15.036745051598716)"
      ]
     },
     "execution_count": 101,
     "metadata": {},
     "output_type": "execute_result"
    }
   ],
   "source": [
    "# Compute p-value here\n",
    "\n",
    "stats.ttest_ind(a = New_York['aqi'], b = Ohio['aqi'], alternative = 'less', equal_var = False)"
   ]
  },
  {
   "cell_type": "markdown",
   "id": "5ac28078",
   "metadata": {
    "id": "d56642db-8f45-405a-af7d-69bd3ad3fe58"
   },
   "source": [
    "#### **Question 2. What is your P-value for hypothesis 2, and what does this indicate for your null hypothesis?**"
   ]
  },
  {
   "cell_type": "markdown",
   "id": "7375ce82",
   "metadata": {
    "id": "dFDxoQ9aJxz3"
   },
   "source": [
    "- From our test we obtained a p value of 0.03 which is less than our significance level of 0.05\n",
    "- Since our p value is less than our significance level, we reject the null hypothesis, and therefore conclude that at a 5% significance level the mean aqi of New York is below that of Ohio"
   ]
  },
  {
   "cell_type": "markdown",
   "id": "94fd7838",
   "metadata": {
    "id": "4308fdf1-3080-4697-a0b4-4c7c59c49b9b"
   },
   "source": [
    "###  Hypothesis 3: A new policy will affect those states with a mean AQI of 10 or greater. Will Michigan be affected by this new policy?\n",
    "\n",
    "Before proceeding with our analysis, it will be helpful to subset the data for our comparison."
   ]
  },
  {
   "cell_type": "code",
   "execution_count": 109,
   "id": "fa07cb32",
   "metadata": {
    "id": "559c43b4-ccb3-4a05-91d4-8f4aaee4d8b7"
   },
   "outputs": [
    {
     "data": {
      "text/plain": [
       "8.11111111111111"
      ]
     },
     "execution_count": 109,
     "metadata": {},
     "output_type": "execute_result"
    }
   ],
   "source": [
    "# Create dataframes for sample\n",
    "\n",
    "Michigan = aqi_df[aqi_df['state_name'] == 'Michigan']\n",
    "Michigan['aqi'].mean()"
   ]
  },
  {
   "cell_type": "markdown",
   "id": "f3450181",
   "metadata": {
    "id": "6886d303-82ca-42c5-980c-3893868241eb"
   },
   "source": [
    "#### Formulate hypothesis:"
   ]
  },
  {
   "cell_type": "markdown",
   "id": "d53db210",
   "metadata": {
    "id": "b25225ee-02d7-4d42-8746-9e68598b7bf6"
   },
   "source": [
    "**Formulate null and alternative hypotheses:**\n",
    "\n",
    "*   $H_0$: The mean AQI of Michigan is less than 10.\n",
    "*   $H_A$: The mean AQI of Michigan is greater than or equal to 10.\n"
   ]
  },
  {
   "cell_type": "markdown",
   "id": "864c3a44",
   "metadata": {
    "id": "32581125-a9ef-4b17-b8d5-0e1085d4c746"
   },
   "source": [
    "#### Significance Level (remains at 5%)"
   ]
  },
  {
   "cell_type": "markdown",
   "id": "8f46b058",
   "metadata": {
    "id": "915f8cd0-d06b-44ab-81f6-0effa96fae09"
   },
   "source": [
    "#### Determine the appropriate test procedure:"
   ]
  },
  {
   "cell_type": "markdown",
   "id": "9fb4b612",
   "metadata": {
    "id": "6753e251-d152-48c9-a5ad-bd46b62636ee"
   },
   "source": [
    "Here, we are comparing one sample mean relative to a particular value in one direction. Therefore, we will utilize a **one-sample  𝑡-test**. "
   ]
  },
  {
   "cell_type": "markdown",
   "id": "a59983ff",
   "metadata": {
    "id": "95443324-76bb-4473-b07b-dcc0c9be7251"
   },
   "source": [
    "#### Compute the P-value"
   ]
  },
  {
   "cell_type": "code",
   "execution_count": 111,
   "id": "ef1e131d",
   "metadata": {
    "id": "8b86c9f5-284a-4ed7-b2d4-2b531e0092f9",
    "tags": []
   },
   "outputs": [
    {
     "data": {
      "text/plain": [
       "TtestResult(statistic=-1.7395913343286131, pvalue=0.12011896137197813, df=8)"
      ]
     },
     "execution_count": 111,
     "metadata": {},
     "output_type": "execute_result"
    }
   ],
   "source": [
    "# Compute your p-value here\n",
    "\n",
    "stats.ttest_1samp(Michigan['aqi'], 10)"
   ]
  },
  {
   "cell_type": "markdown",
   "id": "f2c1b4a0",
   "metadata": {
    "id": "33175451-2fed-4105-8a46-1bfb0ad3b714"
   },
   "source": [
    "#### **Question 3. What is your P-value for hypothesis 3, and what does this indicate for your null hypothesis?**"
   ]
  },
  {
   "cell_type": "markdown",
   "id": "841dbba9",
   "metadata": {
    "id": "Li8YaXdqJuBF"
   },
   "source": [
    "- From our test we obtained a p value of 0.12 which is greater than our significance level of 0.05\n",
    "- Since our p value is greater than our significance level, we fail to reject the null hypothesis, and therefore conclude that the mean AQI of Michigan is less than 10\n",
    "- We can therefore say, with a 5% significance level that michigan will not be affected by the new policy"
   ]
  },
  {
   "cell_type": "markdown",
   "id": "49af27c9",
   "metadata": {
    "id": "oS3JWcpU127z"
   },
   "source": [
    "## Step 4. Results and Evaluation\n",
    "\n",
    "Now that we have completed our statistical tests, we can consider our hypotheses and the results we gathered."
   ]
  },
  {
   "cell_type": "markdown",
   "id": "f8aed089",
   "metadata": {
    "id": "q2p_8BmC16V-"
   },
   "source": [
    "#### **Question 4. Did our results show that the AQI in Los Angeles County was statistically different from the rest of California?**"
   ]
  },
  {
   "cell_type": "markdown",
   "id": "166ba0f7",
   "metadata": {
    "id": "US0JnLp3JrfX"
   },
   "source": [
    "Yes, using a significance level of 5%, our results show that there is a statistically significant difference in the AQI in Los Angeles County and the rest of California"
   ]
  },
  {
   "cell_type": "markdown",
   "id": "522fae6e",
   "metadata": {
    "id": "G7-YawsW68Yd"
   },
   "source": [
    "#### **Question 5. Did New York or Ohio have a lower AQI?**"
   ]
  },
  {
   "cell_type": "markdown",
   "id": "ee6395c4-5b90-4bba-9506-17c5d0f7002a",
   "metadata": {},
   "source": [
    "Yes, at a 5% significance level, we rejected the null hypothesis and could not conclude that the mean AQI of New York is greater than or equal to that of Ohio, therefore it is likely that the mean AQI of New York is below that of Ohio."
   ]
  },
  {
   "cell_type": "markdown",
   "id": "c3255de9",
   "metadata": {
    "id": "ppAmh9nD7HkZ"
   },
   "source": [
    "#### **Question 6: Will Michigan be affected by the new policy impacting states with a mean AQI of 10 or greater?**\n",
    "\n"
   ]
  },
  {
   "cell_type": "markdown",
   "id": "792ac1f2",
   "metadata": {
    "id": "zzSBoJwMJpgG"
   },
   "source": [
    "At a 5% significance level, we failed to reject the null hypothesis and could not conclude that Michigan had a mean AQI equal to or greater than 10, therefore it is likely that Michigan will not be affected by the new policy"
   ]
  }
 ],
 "metadata": {
  "colab": {
   "collapsed_sections": [
    "b12559f5-bd57-4664-be80-7208ca8818b4",
    "32581125-a9ef-4b17-b8d5-0e1085d4c746"
   ],
   "provenance": []
  },
  "kernelspec": {
   "display_name": "Python 3 (ipykernel)",
   "language": "python",
   "name": "python3"
  },
  "language_info": {
   "codemirror_mode": {
    "name": "ipython",
    "version": 3
   },
   "file_extension": ".py",
   "mimetype": "text/x-python",
   "name": "python",
   "nbconvert_exporter": "python",
   "pygments_lexer": "ipython3",
   "version": "3.12.2"
  }
 },
 "nbformat": 4,
 "nbformat_minor": 5
}
